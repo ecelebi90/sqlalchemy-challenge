%matplotlib inline
from matplotlib import style
style.use('fivethirtyeight')
import matplotlib.pyplot as plt


import numpy as np
import pandas as pd
import datetime as dt





# Python SQL toolkit and Object Relational Mapper
import sqlalchemy 
from sqlalchemy.ext.automap import automap_base
from sqlalchemy.orm import Session
from sqlalchemy import create_engine, func


#create engine to hawaii.sqlite
engine = create_engine("sqlite:///Resources/hawaii.sqlite")


# reflect an existing database into a new model
Base = automap_base()

#reflect the tables
Base.prepare(autoload_with=engine)


#View all of the classes that automap found
Base.classes.keys()


#Save references to each table
measurement = Base.classes.measurement
station = Base.classes.station


#Create our sessoin (link) from Python to the DB
session = Session(engine)





first_row = session.query(measurement).first()
first_row.__dict__


first_row = session.query(station).first()
first_row.__dict__


#Find the most recent date in the data set
most_recent_date = session.query(func.max(measurement.date)).scalar()
print(most_recent_date)


# Design a query to retrieve the last 12 months of precipitation data and plot the results. 
# Starting from the most recent data point in the database. 

# Calculate the date one year from the last date in data set.
one_year_ago = dt.datetime.strptime(most_recent_date, '%Y-%m-%d') - dt.timedelta(days=365)

# Perform a query to retrieve the data and precipitation scores
results = session.query(measurement.date, measurement.prcp).filter(measurement.date >= one_year_ago).all()

#Print
# for row in results:
#     print(row)

# Save the query results as a Pandas DataFrame. Explicitly set the column names
results_df = pd.DataFrame(results)

# Sort the dataframe by date
sorted_results_df = results_df.sort_values(by='date')
# sorted_results_df = sorted_results_df.groupby(sorted_results_df.index).first()

# Use Pandas Plotting with Matplotlib to plot the data
# specific_dates = ['2016-08-23', '2016-10-01', '2016-11-09', '2016-12-19', '2017-01-28', 
                  # '2017-03-09', '2017-04-18', '2017-05-31', '2017-07-10']

# specific_dates_index = pd.to_datetime(specific_dates)

# results_df.plot(kind="bar", figsize=(10,2))
results_df.plot(x='date', y='prcp', rot=90)

#Set the x-ticks to display the specific dates
# ax.set_xticks(sorted_results_df.index.get_indexer(specific_dates_index))
# ax.set_xticklabels(specific_dates)

plt.show()





results_df



